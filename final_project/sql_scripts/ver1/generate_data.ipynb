{
 "cells": [
  {
   "cell_type": "code",
   "execution_count": 1,
   "metadata": {},
   "outputs": [],
   "source": [
    "import pandas as pd"
   ]
  },
  {
   "cell_type": "code",
   "execution_count": 3,
   "metadata": {
    "scrolled": false
   },
   "outputs": [
    {
     "data": {
      "text/html": [
       "<div>\n",
       "<style scoped>\n",
       "    .dataframe tbody tr th:only-of-type {\n",
       "        vertical-align: middle;\n",
       "    }\n",
       "\n",
       "    .dataframe tbody tr th {\n",
       "        vertical-align: top;\n",
       "    }\n",
       "\n",
       "    .dataframe thead th {\n",
       "        text-align: right;\n",
       "    }\n",
       "</style>\n",
       "<table border=\"1\" class=\"dataframe\">\n",
       "  <thead>\n",
       "    <tr style=\"text-align: right;\">\n",
       "      <th></th>\n",
       "      <th>uid</th>\n",
       "      <th>uname</th>\n",
       "      <th>upassword</th>\n",
       "      <th>upicurl</th>\n",
       "      <th>ucash</th>\n",
       "    </tr>\n",
       "  </thead>\n",
       "  <tbody>\n",
       "    <tr>\n",
       "      <th>0</th>\n",
       "      <td>nmatussevich0</td>\n",
       "      <td>Nelia Matussevich</td>\n",
       "      <td>fbgaLX</td>\n",
       "      <td>http://dummyimage.com/250x250.jpg/cc0000/ffffff</td>\n",
       "      <td>6976</td>\n",
       "    </tr>\n",
       "    <tr>\n",
       "      <th>1</th>\n",
       "      <td>ireavey1</td>\n",
       "      <td>Irita Reavey</td>\n",
       "      <td>GckrkXBusJ</td>\n",
       "      <td>http://dummyimage.com/250x250.jpg/cc0000/ffffff</td>\n",
       "      <td>6197</td>\n",
       "    </tr>\n",
       "    <tr>\n",
       "      <th>2</th>\n",
       "      <td>tstrode2</td>\n",
       "      <td>Travis Strode</td>\n",
       "      <td>lgMLcPE</td>\n",
       "      <td>http://dummyimage.com/250x250.jpg/dddddd/000000</td>\n",
       "      <td>5376</td>\n",
       "    </tr>\n",
       "    <tr>\n",
       "      <th>3</th>\n",
       "      <td>ogeist3</td>\n",
       "      <td>Ogdan Geist</td>\n",
       "      <td>aziDXRLc7</td>\n",
       "      <td>http://dummyimage.com/250x250.jpg/dddddd/000000</td>\n",
       "      <td>9565</td>\n",
       "    </tr>\n",
       "    <tr>\n",
       "      <th>4</th>\n",
       "      <td>lkaradzas4</td>\n",
       "      <td>Laverne Karadzas</td>\n",
       "      <td>5xGKdD</td>\n",
       "      <td>http://dummyimage.com/250x250.jpg/dddddd/000000</td>\n",
       "      <td>7831</td>\n",
       "    </tr>\n",
       "  </tbody>\n",
       "</table>\n",
       "</div>"
      ],
      "text/plain": [
       "             uid              uname   upassword  \\\n",
       "0  nmatussevich0  Nelia Matussevich      fbgaLX   \n",
       "1       ireavey1       Irita Reavey  GckrkXBusJ   \n",
       "2       tstrode2      Travis Strode     lgMLcPE   \n",
       "3        ogeist3        Ogdan Geist   aziDXRLc7   \n",
       "4     lkaradzas4   Laverne Karadzas      5xGKdD   \n",
       "\n",
       "                                           upicurl  ucash  \n",
       "0  http://dummyimage.com/250x250.jpg/cc0000/ffffff   6976  \n",
       "1  http://dummyimage.com/250x250.jpg/cc0000/ffffff   6197  \n",
       "2  http://dummyimage.com/250x250.jpg/dddddd/000000   5376  \n",
       "3  http://dummyimage.com/250x250.jpg/dddddd/000000   9565  \n",
       "4  http://dummyimage.com/250x250.jpg/dddddd/000000   7831  "
      ]
     },
     "execution_count": 3,
     "metadata": {},
     "output_type": "execute_result"
    }
   ],
   "source": [
    "users = pd.read_csv('MOCK_DATA_users.csv')\n",
    "users.head()"
   ]
  },
  {
   "cell_type": "code",
   "execution_count": 23,
   "metadata": {},
   "outputs": [],
   "source": [
    "with open('users2.sql', 'w') as file:\n",
    "    for index, row_series in users.iterrows():\n",
    "        file.write(f'''\n",
    "        INSERT INTO users (uid, uname, upassword, upicurl, ucash)\n",
    "        VALUES (\n",
    "            '{row_series.uid}', '{row_series.uname}', '{row_series.upassword}', '{row_series.upicurl}', {row_series.ucash}\n",
    "        );\n",
    "        \n",
    "        ''')"
   ]
  },
  {
   "cell_type": "code",
   "execution_count": 4,
   "metadata": {
    "scrolled": true
   },
   "outputs": [
    {
     "data": {
      "text/html": [
       "<div>\n",
       "<style scoped>\n",
       "    .dataframe tbody tr th:only-of-type {\n",
       "        vertical-align: middle;\n",
       "    }\n",
       "\n",
       "    .dataframe tbody tr th {\n",
       "        vertical-align: top;\n",
       "    }\n",
       "\n",
       "    .dataframe thead th {\n",
       "        text-align: right;\n",
       "    }\n",
       "</style>\n",
       "<table border=\"1\" class=\"dataframe\">\n",
       "  <thead>\n",
       "    <tr style=\"text-align: right;\">\n",
       "      <th></th>\n",
       "      <th>pid</th>\n",
       "      <th>ptarget</th>\n",
       "      <th>pdeadline</th>\n",
       "      <th>pdesc</th>\n",
       "      <th>ppicurl</th>\n",
       "    </tr>\n",
       "  </thead>\n",
       "  <tbody>\n",
       "    <tr>\n",
       "      <th>0</th>\n",
       "      <td>Keylex</td>\n",
       "      <td>2000000</td>\n",
       "      <td>2020-11-13 09:34:56</td>\n",
       "      <td>Vestibulum ante ipsum primis in faucibus orci ...</td>\n",
       "      <td>http://dummyimage.com/250x250.jpg/cc0000/ffffff</td>\n",
       "    </tr>\n",
       "    <tr>\n",
       "      <th>1</th>\n",
       "      <td>Sub-Ex</td>\n",
       "      <td>4200000</td>\n",
       "      <td>2020-11-27 04:30:49</td>\n",
       "      <td>Aenean sit amet justo. Morbi ut odio. Cras mi ...</td>\n",
       "      <td>http://dummyimage.com/250x250.jpg/5fa2dd/ffffff</td>\n",
       "    </tr>\n",
       "    <tr>\n",
       "      <th>2</th>\n",
       "      <td>Konklux</td>\n",
       "      <td>2800000</td>\n",
       "      <td>2020-12-26 09:21:05</td>\n",
       "      <td>Pellentesque eget nunc. Donec quis orci eget o...</td>\n",
       "      <td>http://dummyimage.com/250x250.jpg/dddddd/000000</td>\n",
       "    </tr>\n",
       "    <tr>\n",
       "      <th>3</th>\n",
       "      <td>Subin</td>\n",
       "      <td>1300000</td>\n",
       "      <td>2021-01-11 14:04:20</td>\n",
       "      <td>In hac habitasse platea dictumst. Maecenas ut ...</td>\n",
       "      <td>http://dummyimage.com/250x250.jpg/cc0000/ffffff</td>\n",
       "    </tr>\n",
       "    <tr>\n",
       "      <th>4</th>\n",
       "      <td>Voltsillam</td>\n",
       "      <td>3100000</td>\n",
       "      <td>2020-12-28 03:33:51</td>\n",
       "      <td>Nulla tempus. Vivamus in felis eu sapien cursu...</td>\n",
       "      <td>http://dummyimage.com/250x250.jpg/5fa2dd/ffffff</td>\n",
       "    </tr>\n",
       "  </tbody>\n",
       "</table>\n",
       "</div>"
      ],
      "text/plain": [
       "          pid  ptarget            pdeadline  \\\n",
       "0      Keylex  2000000  2020-11-13 09:34:56   \n",
       "1      Sub-Ex  4200000  2020-11-27 04:30:49   \n",
       "2     Konklux  2800000  2020-12-26 09:21:05   \n",
       "3       Subin  1300000  2021-01-11 14:04:20   \n",
       "4  Voltsillam  3100000  2020-12-28 03:33:51   \n",
       "\n",
       "                                               pdesc  \\\n",
       "0  Vestibulum ante ipsum primis in faucibus orci ...   \n",
       "1  Aenean sit amet justo. Morbi ut odio. Cras mi ...   \n",
       "2  Pellentesque eget nunc. Donec quis orci eget o...   \n",
       "3  In hac habitasse platea dictumst. Maecenas ut ...   \n",
       "4  Nulla tempus. Vivamus in felis eu sapien cursu...   \n",
       "\n",
       "                                           ppicurl  \n",
       "0  http://dummyimage.com/250x250.jpg/cc0000/ffffff  \n",
       "1  http://dummyimage.com/250x250.jpg/5fa2dd/ffffff  \n",
       "2  http://dummyimage.com/250x250.jpg/dddddd/000000  \n",
       "3  http://dummyimage.com/250x250.jpg/cc0000/ffffff  \n",
       "4  http://dummyimage.com/250x250.jpg/5fa2dd/ffffff  "
      ]
     },
     "execution_count": 4,
     "metadata": {},
     "output_type": "execute_result"
    }
   ],
   "source": [
    "projects = pd.read_csv(\"MOCK_DATA_projects.csv\")\n",
    "projects.head()"
   ]
  },
  {
   "cell_type": "code",
   "execution_count": 6,
   "metadata": {},
   "outputs": [
    {
     "data": {
      "text/plain": [
       "(500, 5)"
      ]
     },
     "execution_count": 6,
     "metadata": {},
     "output_type": "execute_result"
    }
   ],
   "source": [
    "projects.shape"
   ]
  },
  {
   "cell_type": "code",
   "execution_count": 5,
   "metadata": {
    "scrolled": true
   },
   "outputs": [
    {
     "data": {
      "text/html": [
       "<div>\n",
       "<style scoped>\n",
       "    .dataframe tbody tr th:only-of-type {\n",
       "        vertical-align: middle;\n",
       "    }\n",
       "\n",
       "    .dataframe tbody tr th {\n",
       "        vertical-align: top;\n",
       "    }\n",
       "\n",
       "    .dataframe thead th {\n",
       "        text-align: right;\n",
       "    }\n",
       "</style>\n",
       "<table border=\"1\" class=\"dataframe\">\n",
       "  <thead>\n",
       "    <tr style=\"text-align: right;\">\n",
       "      <th></th>\n",
       "      <th>dtime</th>\n",
       "      <th>damt</th>\n",
       "      <th>dtrans</th>\n",
       "    </tr>\n",
       "  </thead>\n",
       "  <tbody>\n",
       "    <tr>\n",
       "      <th>0</th>\n",
       "      <td>2019-12-08 10:52:02</td>\n",
       "      <td>221000</td>\n",
       "      <td>False</td>\n",
       "    </tr>\n",
       "    <tr>\n",
       "      <th>1</th>\n",
       "      <td>2020-11-29 10:50:19</td>\n",
       "      <td>379000</td>\n",
       "      <td>False</td>\n",
       "    </tr>\n",
       "    <tr>\n",
       "      <th>2</th>\n",
       "      <td>2020-03-26 17:03:52</td>\n",
       "      <td>455000</td>\n",
       "      <td>False</td>\n",
       "    </tr>\n",
       "    <tr>\n",
       "      <th>3</th>\n",
       "      <td>2020-11-02 11:27:28</td>\n",
       "      <td>91000</td>\n",
       "      <td>False</td>\n",
       "    </tr>\n",
       "    <tr>\n",
       "      <th>4</th>\n",
       "      <td>2020-03-04 19:31:36</td>\n",
       "      <td>400000</td>\n",
       "      <td>False</td>\n",
       "    </tr>\n",
       "  </tbody>\n",
       "</table>\n",
       "</div>"
      ],
      "text/plain": [
       "                 dtime    damt  dtrans\n",
       "0  2019-12-08 10:52:02  221000   False\n",
       "1  2020-11-29 10:50:19  379000   False\n",
       "2  2020-03-26 17:03:52  455000   False\n",
       "3  2020-11-02 11:27:28   91000   False\n",
       "4  2020-03-04 19:31:36  400000   False"
      ]
     },
     "execution_count": 5,
     "metadata": {},
     "output_type": "execute_result"
    }
   ],
   "source": [
    "dtrans= pd.read_csv(\"MOCK_DATA_dtrans.csv\")\n",
    "dtrans.head()"
   ]
  },
  {
   "cell_type": "code",
   "execution_count": 10,
   "metadata": {},
   "outputs": [
    {
     "data": {
      "text/plain": [
       "'mbuxcey17'"
      ]
     },
     "execution_count": 10,
     "metadata": {},
     "output_type": "execute_result"
    }
   ],
   "source": [
    "users.uid.sample(1).iloc[0]"
   ]
  },
  {
   "cell_type": "code",
   "execution_count": 11,
   "metadata": {},
   "outputs": [],
   "source": [
    "projects['uid'] = projects.pid.apply(lambda x: users.uid.sample(1).iloc[0])"
   ]
  },
  {
   "cell_type": "code",
   "execution_count": 12,
   "metadata": {
    "scrolled": false
   },
   "outputs": [
    {
     "data": {
      "text/html": [
       "<div>\n",
       "<style scoped>\n",
       "    .dataframe tbody tr th:only-of-type {\n",
       "        vertical-align: middle;\n",
       "    }\n",
       "\n",
       "    .dataframe tbody tr th {\n",
       "        vertical-align: top;\n",
       "    }\n",
       "\n",
       "    .dataframe thead th {\n",
       "        text-align: right;\n",
       "    }\n",
       "</style>\n",
       "<table border=\"1\" class=\"dataframe\">\n",
       "  <thead>\n",
       "    <tr style=\"text-align: right;\">\n",
       "      <th></th>\n",
       "      <th>pid</th>\n",
       "      <th>ptarget</th>\n",
       "      <th>pdeadline</th>\n",
       "      <th>pdesc</th>\n",
       "      <th>ppicurl</th>\n",
       "      <th>uid</th>\n",
       "    </tr>\n",
       "  </thead>\n",
       "  <tbody>\n",
       "    <tr>\n",
       "      <th>0</th>\n",
       "      <td>Keylex</td>\n",
       "      <td>2000000</td>\n",
       "      <td>2020-11-13 09:34:56</td>\n",
       "      <td>Vestibulum ante ipsum primis in faucibus orci ...</td>\n",
       "      <td>http://dummyimage.com/250x250.jpg/cc0000/ffffff</td>\n",
       "      <td>jmustoe1u</td>\n",
       "    </tr>\n",
       "    <tr>\n",
       "      <th>1</th>\n",
       "      <td>Sub-Ex</td>\n",
       "      <td>4200000</td>\n",
       "      <td>2020-11-27 04:30:49</td>\n",
       "      <td>Aenean sit amet justo. Morbi ut odio. Cras mi ...</td>\n",
       "      <td>http://dummyimage.com/250x250.jpg/5fa2dd/ffffff</td>\n",
       "      <td>mcosbee1d</td>\n",
       "    </tr>\n",
       "    <tr>\n",
       "      <th>2</th>\n",
       "      <td>Konklux</td>\n",
       "      <td>2800000</td>\n",
       "      <td>2020-12-26 09:21:05</td>\n",
       "      <td>Pellentesque eget nunc. Donec quis orci eget o...</td>\n",
       "      <td>http://dummyimage.com/250x250.jpg/dddddd/000000</td>\n",
       "      <td>fgenthner1q</td>\n",
       "    </tr>\n",
       "    <tr>\n",
       "      <th>3</th>\n",
       "      <td>Subin</td>\n",
       "      <td>1300000</td>\n",
       "      <td>2021-01-11 14:04:20</td>\n",
       "      <td>In hac habitasse platea dictumst. Maecenas ut ...</td>\n",
       "      <td>http://dummyimage.com/250x250.jpg/cc0000/ffffff</td>\n",
       "      <td>ecastellanm</td>\n",
       "    </tr>\n",
       "    <tr>\n",
       "      <th>4</th>\n",
       "      <td>Voltsillam</td>\n",
       "      <td>3100000</td>\n",
       "      <td>2020-12-28 03:33:51</td>\n",
       "      <td>Nulla tempus. Vivamus in felis eu sapien cursu...</td>\n",
       "      <td>http://dummyimage.com/250x250.jpg/5fa2dd/ffffff</td>\n",
       "      <td>llaba1n</td>\n",
       "    </tr>\n",
       "  </tbody>\n",
       "</table>\n",
       "</div>"
      ],
      "text/plain": [
       "          pid  ptarget            pdeadline  \\\n",
       "0      Keylex  2000000  2020-11-13 09:34:56   \n",
       "1      Sub-Ex  4200000  2020-11-27 04:30:49   \n",
       "2     Konklux  2800000  2020-12-26 09:21:05   \n",
       "3       Subin  1300000  2021-01-11 14:04:20   \n",
       "4  Voltsillam  3100000  2020-12-28 03:33:51   \n",
       "\n",
       "                                               pdesc  \\\n",
       "0  Vestibulum ante ipsum primis in faucibus orci ...   \n",
       "1  Aenean sit amet justo. Morbi ut odio. Cras mi ...   \n",
       "2  Pellentesque eget nunc. Donec quis orci eget o...   \n",
       "3  In hac habitasse platea dictumst. Maecenas ut ...   \n",
       "4  Nulla tempus. Vivamus in felis eu sapien cursu...   \n",
       "\n",
       "                                           ppicurl          uid  \n",
       "0  http://dummyimage.com/250x250.jpg/cc0000/ffffff    jmustoe1u  \n",
       "1  http://dummyimage.com/250x250.jpg/5fa2dd/ffffff    mcosbee1d  \n",
       "2  http://dummyimage.com/250x250.jpg/dddddd/000000  fgenthner1q  \n",
       "3  http://dummyimage.com/250x250.jpg/cc0000/ffffff  ecastellanm  \n",
       "4  http://dummyimage.com/250x250.jpg/5fa2dd/ffffff      llaba1n  "
      ]
     },
     "execution_count": 12,
     "metadata": {},
     "output_type": "execute_result"
    }
   ],
   "source": [
    "projects.head()"
   ]
  },
  {
   "cell_type": "code",
   "execution_count": 24,
   "metadata": {},
   "outputs": [
    {
     "data": {
      "text/plain": [
       "(500, 6)"
      ]
     },
     "execution_count": 24,
     "metadata": {},
     "output_type": "execute_result"
    }
   ],
   "source": [
    "projects.shape"
   ]
  },
  {
   "cell_type": "code",
   "execution_count": 21,
   "metadata": {},
   "outputs": [
    {
     "data": {
      "text/html": [
       "<div>\n",
       "<style scoped>\n",
       "    .dataframe tbody tr th:only-of-type {\n",
       "        vertical-align: middle;\n",
       "    }\n",
       "\n",
       "    .dataframe tbody tr th {\n",
       "        vertical-align: top;\n",
       "    }\n",
       "\n",
       "    .dataframe thead th {\n",
       "        text-align: right;\n",
       "    }\n",
       "</style>\n",
       "<table border=\"1\" class=\"dataframe\">\n",
       "  <thead>\n",
       "    <tr style=\"text-align: right;\">\n",
       "      <th></th>\n",
       "      <th>uid</th>\n",
       "      <th>uname</th>\n",
       "      <th>upassword</th>\n",
       "      <th>upicurl</th>\n",
       "      <th>ucash</th>\n",
       "    </tr>\n",
       "  </thead>\n",
       "  <tbody>\n",
       "    <tr>\n",
       "      <th>66</th>\n",
       "      <td>jmustoe1u</td>\n",
       "      <td>Justino Mustoe</td>\n",
       "      <td>L7RvijixaKbJ</td>\n",
       "      <td>http://dummyimage.com/250x250.jpg/cc0000/ffffff</td>\n",
       "      <td>7317</td>\n",
       "    </tr>\n",
       "  </tbody>\n",
       "</table>\n",
       "</div>"
      ],
      "text/plain": [
       "          uid           uname     upassword  \\\n",
       "66  jmustoe1u  Justino Mustoe  L7RvijixaKbJ   \n",
       "\n",
       "                                            upicurl  ucash  \n",
       "66  http://dummyimage.com/250x250.jpg/cc0000/ffffff   7317  "
      ]
     },
     "execution_count": 21,
     "metadata": {},
     "output_type": "execute_result"
    }
   ],
   "source": [
    "users[users.uid == 'jmustoe1u']"
   ]
  },
  {
   "cell_type": "code",
   "execution_count": 29,
   "metadata": {},
   "outputs": [],
   "source": [
    "with open('projects.sql', 'w') as file:\n",
    "    for index, row_series in projects.iterrows():\n",
    "        file.write(f'''INSERT INTO projects (pid, uid, ptarget, pdeadline, pdesc, ppicurl) VALUES ('{row_series.pid}', '{row_series.uid.replace(\"''\", \"\")}', {row_series.ptarget}, '{row_series.pdeadline}', '{row_series.pdesc[:300]}', '{row_series.ppicurl}');\n",
    "        \n",
    "        ''')"
   ]
  },
  {
   "cell_type": "markdown",
   "metadata": {},
   "source": [
    "## Donates table\n",
    "\n",
    "for each transaction, choose a random user, and random project, if the transactiontime is before the project deadline, then assign the transaction to the project"
   ]
  },
  {
   "cell_type": "code",
   "execution_count": 42,
   "metadata": {},
   "outputs": [],
   "source": [
    "dtrans['dtrans'] = False"
   ]
  },
  {
   "cell_type": "code",
   "execution_count": 44,
   "metadata": {},
   "outputs": [
    {
     "data": {
      "text/html": [
       "<div>\n",
       "<style scoped>\n",
       "    .dataframe tbody tr th:only-of-type {\n",
       "        vertical-align: middle;\n",
       "    }\n",
       "\n",
       "    .dataframe tbody tr th {\n",
       "        vertical-align: top;\n",
       "    }\n",
       "\n",
       "    .dataframe thead th {\n",
       "        text-align: right;\n",
       "    }\n",
       "</style>\n",
       "<table border=\"1\" class=\"dataframe\">\n",
       "  <thead>\n",
       "    <tr style=\"text-align: right;\">\n",
       "      <th></th>\n",
       "      <th>dtime</th>\n",
       "      <th>damt</th>\n",
       "      <th>dtrans</th>\n",
       "    </tr>\n",
       "  </thead>\n",
       "  <tbody>\n",
       "    <tr>\n",
       "      <th>0</th>\n",
       "      <td>2019-12-08 10:52:02</td>\n",
       "      <td>221000</td>\n",
       "      <td>False</td>\n",
       "    </tr>\n",
       "    <tr>\n",
       "      <th>1</th>\n",
       "      <td>2020-11-29 10:50:19</td>\n",
       "      <td>379000</td>\n",
       "      <td>False</td>\n",
       "    </tr>\n",
       "    <tr>\n",
       "      <th>2</th>\n",
       "      <td>2020-03-26 17:03:52</td>\n",
       "      <td>455000</td>\n",
       "      <td>False</td>\n",
       "    </tr>\n",
       "    <tr>\n",
       "      <th>3</th>\n",
       "      <td>2020-11-02 11:27:28</td>\n",
       "      <td>91000</td>\n",
       "      <td>False</td>\n",
       "    </tr>\n",
       "    <tr>\n",
       "      <th>4</th>\n",
       "      <td>2020-03-04 19:31:36</td>\n",
       "      <td>400000</td>\n",
       "      <td>False</td>\n",
       "    </tr>\n",
       "  </tbody>\n",
       "</table>\n",
       "</div>"
      ],
      "text/plain": [
       "                 dtime    damt  dtrans\n",
       "0  2019-12-08 10:52:02  221000   False\n",
       "1  2020-11-29 10:50:19  379000   False\n",
       "2  2020-03-26 17:03:52  455000   False\n",
       "3  2020-11-02 11:27:28   91000   False\n",
       "4  2020-03-04 19:31:36  400000   False"
      ]
     },
     "execution_count": 44,
     "metadata": {},
     "output_type": "execute_result"
    }
   ],
   "source": [
    "dtrans.head()"
   ]
  },
  {
   "cell_type": "code",
   "execution_count": 51,
   "metadata": {
    "scrolled": true
   },
   "outputs": [
    {
     "data": {
      "text/plain": [
       "'jadiscot16'"
      ]
     },
     "execution_count": 51,
     "metadata": {},
     "output_type": "execute_result"
    }
   ],
   "source": [
    "users.sample(1).iloc[0,0]"
   ]
  },
  {
   "cell_type": "code",
   "execution_count": 57,
   "metadata": {},
   "outputs": [
    {
     "data": {
      "text/html": [
       "<div>\n",
       "<style scoped>\n",
       "    .dataframe tbody tr th:only-of-type {\n",
       "        vertical-align: middle;\n",
       "    }\n",
       "\n",
       "    .dataframe tbody tr th {\n",
       "        vertical-align: top;\n",
       "    }\n",
       "\n",
       "    .dataframe thead th {\n",
       "        text-align: right;\n",
       "    }\n",
       "</style>\n",
       "<table border=\"1\" class=\"dataframe\">\n",
       "  <thead>\n",
       "    <tr style=\"text-align: right;\">\n",
       "      <th></th>\n",
       "      <th>pid</th>\n",
       "      <th>uid</th>\n",
       "      <th>ptarget</th>\n",
       "      <th>pdeadline</th>\n",
       "      <th>pdesc</th>\n",
       "      <th>ppicurl</th>\n",
       "    </tr>\n",
       "  </thead>\n",
       "  <tbody>\n",
       "    <tr>\n",
       "      <th>0</th>\n",
       "      <td>Aerified</td>\n",
       "      <td>llaba1n</td>\n",
       "      <td>4800000</td>\n",
       "      <td>2020-12-31 21:15:13</td>\n",
       "      <td>Duis bibendum, felis sed interdum venenatis, t...</td>\n",
       "      <td>http://dummyimage.com/250x250.jpg/dddddd/000000</td>\n",
       "    </tr>\n",
       "    <tr>\n",
       "      <th>1</th>\n",
       "      <td>Alpha</td>\n",
       "      <td>sburrusr</td>\n",
       "      <td>2500000</td>\n",
       "      <td>2020-11-26 16:31:16</td>\n",
       "      <td>Nulla justo. Aliquam quis turpis eget elit sod...</td>\n",
       "      <td>http://dummyimage.com/250x250.jpg/5fa2dd/ffffff</td>\n",
       "    </tr>\n",
       "    <tr>\n",
       "      <th>2</th>\n",
       "      <td>Alphazap</td>\n",
       "      <td>mmccombj</td>\n",
       "      <td>4000000</td>\n",
       "      <td>2020-10-28 10:46:10</td>\n",
       "      <td>Vestibulum ante ipsum primis in faucibus orci ...</td>\n",
       "      <td>http://dummyimage.com/250x250.jpg/ff4444/ffffff</td>\n",
       "    </tr>\n",
       "    <tr>\n",
       "      <th>3</th>\n",
       "      <td>Andalax</td>\n",
       "      <td>tbambra10</td>\n",
       "      <td>4100000</td>\n",
       "      <td>2020-12-11 23:57:41</td>\n",
       "      <td>Vestibulum ante ipsum primis in faucibus orci ...</td>\n",
       "      <td>http://dummyimage.com/250x250.jpg/5fa2dd/ffffff</td>\n",
       "    </tr>\n",
       "    <tr>\n",
       "      <th>4</th>\n",
       "      <td>Asoka</td>\n",
       "      <td>cmackimmieq</td>\n",
       "      <td>2700000</td>\n",
       "      <td>2020-10-25 10:57:47</td>\n",
       "      <td>Cras in purus eu magna vulputate luctus. Cum s...</td>\n",
       "      <td>http://dummyimage.com/250x250.jpg/dddddd/000000</td>\n",
       "    </tr>\n",
       "  </tbody>\n",
       "</table>\n",
       "</div>"
      ],
      "text/plain": [
       "        pid          uid  ptarget            pdeadline  \\\n",
       "0  Aerified      llaba1n  4800000  2020-12-31 21:15:13   \n",
       "1     Alpha     sburrusr  2500000  2020-11-26 16:31:16   \n",
       "2  Alphazap     mmccombj  4000000  2020-10-28 10:46:10   \n",
       "3   Andalax    tbambra10  4100000  2020-12-11 23:57:41   \n",
       "4     Asoka  cmackimmieq  2700000  2020-10-25 10:57:47   \n",
       "\n",
       "                                               pdesc  \\\n",
       "0  Duis bibendum, felis sed interdum venenatis, t...   \n",
       "1  Nulla justo. Aliquam quis turpis eget elit sod...   \n",
       "2  Vestibulum ante ipsum primis in faucibus orci ...   \n",
       "3  Vestibulum ante ipsum primis in faucibus orci ...   \n",
       "4  Cras in purus eu magna vulputate luctus. Cum s...   \n",
       "\n",
       "                                           ppicurl  \n",
       "0  http://dummyimage.com/250x250.jpg/dddddd/000000  \n",
       "1  http://dummyimage.com/250x250.jpg/5fa2dd/ffffff  \n",
       "2  http://dummyimage.com/250x250.jpg/ff4444/ffffff  \n",
       "3  http://dummyimage.com/250x250.jpg/5fa2dd/ffffff  \n",
       "4  http://dummyimage.com/250x250.jpg/dddddd/000000  "
      ]
     },
     "execution_count": 57,
     "metadata": {},
     "output_type": "execute_result"
    }
   ],
   "source": [
    "projects = pd.read_csv('MOCK_DATA_projects_inserted.csv')\n",
    "projects.head()"
   ]
  },
  {
   "cell_type": "code",
   "execution_count": 60,
   "metadata": {},
   "outputs": [
    {
     "name": "stdout",
     "output_type": "stream",
     "text": [
      "Subin\n",
      "2021-01-11 14:04:20\n"
     ]
    }
   ],
   "source": [
    "a = projects.sample(1)\n",
    "print(a.iloc[0, 0]) # pid\n",
    "print(a.iloc[0, 3]) # dealine"
   ]
  },
  {
   "cell_type": "code",
   "execution_count": 62,
   "metadata": {},
   "outputs": [],
   "source": [
    "with open('donates.sql', 'w') as file:\n",
    "    for index, row_series in dtrans.iterrows():\n",
    "        dtime = row_series.dtime\n",
    "        damt  = row_series.damt\n",
    "        dtran = row_series.dtrans\n",
    "        \n",
    "        donater_id = users.sample(1).iloc[0,0]\n",
    "        project = projects.sample(1)\n",
    "        \n",
    "        while project.iloc[0, 3] < dtime:\n",
    "            project = projects.sample(1)\n",
    "        \n",
    "        file.write(f'''\n",
    "        INSERT INTO donates (uid, pid, dtime, damt, dtrans) VALUES \n",
    "        ('{donater_id}', '{project.iloc[0, 0]}', '{dtime}', {damt}, FALSE);\n",
    "        ''')\n",
    "        "
   ]
  },
  {
   "cell_type": "code",
   "execution_count": null,
   "metadata": {},
   "outputs": [],
   "source": []
  }
 ],
 "metadata": {
  "kernelspec": {
   "display_name": "Python 3",
   "language": "python",
   "name": "python3"
  },
  "language_info": {
   "codemirror_mode": {
    "name": "ipython",
    "version": 3
   },
   "file_extension": ".py",
   "mimetype": "text/x-python",
   "name": "python",
   "nbconvert_exporter": "python",
   "pygments_lexer": "ipython3",
   "version": "3.7.4"
  }
 },
 "nbformat": 4,
 "nbformat_minor": 2
}
